{
  "cells": [
    {
      "metadata": {
        "trusted": true
      },
      "cell_type": "code",
      "source": "weight = int(input(\"weight: \"))\nopt = input(\"(L)bs or (K)gs\")\n\nif opt.upper() == \"K\":\n    weight *= 2.205\n    print(f\"You're {weight} pounds\")\n\nelif opt.upper() == \"L\":\n    weight *= 0.45\n    print(f\"You're {weight} kgs\")",
      "execution_count": 3,
      "outputs": [
        {
          "output_type": "stream",
          "name": "stdout",
          "text": "weight: 70\n(L)bs or (K)gsk\nYou're 154.35 pounds\n"
        }
      ]
    },
    {
      "metadata": {
        "trusted": true
      },
      "cell_type": "code",
      "source": "Loop = True\nwhile Loop:\n    opt = input(\">>>\")\n    if opt.lower == \"help\":\n        print('''start - to start the car\n                 stop - to stop the car\n                 quit - to exit game''')\n    elif opt.lower == \"start\":\n        print(\"Car started...Ready to go!\")\n    elif opt.lower == \"stop\":\n        print(\"Car stopped.\")\n    elif opt.lower == \"quit\":\n        break\n  \n        \n        \n        \n        ",
      "execution_count": null,
      "outputs": [
        {
          "output_type": "stream",
          "name": "stdout",
          "text": ">>>help\n"
        }
      ]
    },
    {
      "metadata": {
        "trusted": true
      },
      "cell_type": "code",
      "source": "numbers = [7, 2, 7, 2, 2]\n\nfor x in numbers:\n    output = \"\"\n    for t in range(x):\n        output += t\n    print(t)",
      "execution_count": null,
      "outputs": []
    },
    {
      "metadata": {
        "trusted": true
      },
      "cell_type": "code",
      "source": "numbers =[2,2,2,2,7]\nfor x in numbers:\n    output = ''\n    for count in range(x):\n        output += 'x'\n    print(output)\n",
      "execution_count": 9,
      "outputs": [
        {
          "output_type": "stream",
          "text": "xx\nxx\nxx\nxx\nxxxxxxx\n",
          "name": "stdout"
        }
      ]
    },
    {
      "metadata": {
        "trusted": true
      },
      "cell_type": "code",
      "source": "numbers = [2,4,3,2,4,2,2,3,12,1,23,1,3,1,33,3,211,3,1,2,4,2,2,4,1,3,1,3,2323,3432,1032323131,3,21,312]\nmax = numbers[0]\n\nfor no in numbers:\n    if no > max:\n        max = no\nprint(f\"The maximum number in list is {max}\" )",
      "execution_count": 12,
      "outputs": [
        {
          "output_type": "stream",
          "text": "The maximum number in list is 1032323131\n",
          "name": "stdout"
        }
      ]
    },
    {
      "metadata": {
        "trusted": true
      },
      "cell_type": "code",
      "source": "no = [4,5,4,2,2,4,2,4,6,45,6,6,54,3,5,5,54,3,3,4,34]\nfor i in no:\n    if no.count(i) > 1:\n        no.remove(i)\nprint(no)",
      "execution_count": 17,
      "outputs": [
        {
          "output_type": "stream",
          "text": "[2, 4, 45, 6, 5, 5, 54, 3, 3, 4, 34]\n",
          "name": "stdout"
        }
      ]
    },
    {
      "metadata": {
        "trusted": true
      },
      "cell_type": "markdown",
      "source": "## Emoji convertor"
    },
    {
      "metadata": {
        "trusted": true
      },
      "cell_type": "code",
      "source": "sentence = input(\"Sentence: \")\nemoji = {\":)\": \"😊\", \":(\": \"😔\", \"angry\": \"😡\", \"love\": \"❤\" }\nwords = sentence.split(\" \")\noutput = \"\"\nfor word in words:\n    output += emoji.get(word, word) + \" \"\nprint(output)\nprint(emoji)\n    \n",
      "execution_count": 44,
      "outputs": [
        {
          "output_type": "stream",
          "name": "stdout",
          "text": "Sentence: Hello How are u? Yesterday I was not feeling very well :( , But today I am good :) Hello How are u? Yesterday I was not feeling very well :( , But today I am good :) \nHello How are u? Yesterday I was not feeling very well 😔 , But today I am good 😊 Hello How are u? Yesterday I was not feeling very well 😔 , But today I am good 😊  \n{':)': '😊', ':(': '😔', 'angry': '😡', 'love': '❤'}\n"
        }
      ]
    },
    {
      "metadata": {},
      "cell_type": "markdown",
      "source": "'''Write a program which will find all such numbers which are divisible by 7 but are not a multiple of 5,\nbetween 2000 and 3200 (both included).'''"
    },
    {
      "metadata": {
        "trusted": true
      },
      "cell_type": "code",
      "source": "arr=[]\nfor i in range(2000,3201):\n    if i % 7 == 0 and i % 5 != 0:\n        arr.append(str(i))\nprint(','.join(arr))        \n\n\n",
      "execution_count": 1,
      "outputs": [
        {
          "output_type": "stream",
          "text": "2002,2009,2016,2023,2037,2044,2051,2058,2072,2079,2086,2093,2107,2114,2121,2128,2142,2149,2156,2163,2177,2184,2191,2198,2212,2219,2226,2233,2247,2254,2261,2268,2282,2289,2296,2303,2317,2324,2331,2338,2352,2359,2366,2373,2387,2394,2401,2408,2422,2429,2436,2443,2457,2464,2471,2478,2492,2499,2506,2513,2527,2534,2541,2548,2562,2569,2576,2583,2597,2604,2611,2618,2632,2639,2646,2653,2667,2674,2681,2688,2702,2709,2716,2723,2737,2744,2751,2758,2772,2779,2786,2793,2807,2814,2821,2828,2842,2849,2856,2863,2877,2884,2891,2898,2912,2919,2926,2933,2947,2954,2961,2968,2982,2989,2996,3003,3017,3024,3031,3038,3052,3059,3066,3073,3087,3094,3101,3108,3122,3129,3136,3143,3157,3164,3171,3178,3192,3199\n",
          "name": "stdout"
        }
      ]
    },
    {
      "metadata": {},
      "cell_type": "markdown",
      "source": "'''Write a program which can compute the factorial of a given numbers.\nThe results should be printed in a comma-separated sequence on a single line.\nSuppose the following input is supplied to the program:\n8\nThen, the output should be:\n40320'''"
    },
    {
      "metadata": {
        "trusted": true
      },
      "cell_type": "code",
      "source": "def factorial(x):\n    fact = 1\n    for i in range(x , 0, -1):\n        fact *= i\n    return fact\n    \n\nnum =int(input (\"Enter number to find its factorial: \"))\n\nprint(f\"The factorial of {num} is {factorial(num)}\")",
      "execution_count": 3,
      "outputs": [
        {
          "output_type": "stream",
          "name": "stdout",
          "text": "Enter number to find its factorial: 10\nThe factorial of 10 is 3628800\n"
        }
      ]
    },
    {
      "metadata": {},
      "cell_type": "markdown",
      "source": "'''With a given integral number n, write a program to generate a dictionary that contains (i, i*i) such that is an integral number between 1 and n (both included). and then the program should print the dictionary.\nSuppose the following input is supplied to the program:\n8\nThen, the output should be:\n{1: 1, 2: 4, 3: 9, 4: 16, 5: 25, 6: 36, 7: 49, 8: 64}"
    },
    {
      "metadata": {
        "trusted": true
      },
      "cell_type": "code",
      "source": "\ndic = dict()\nn = int(input(\"Enter a number \"))\nfor x in range(1,n+1):\n    dic[x] = x*x\n\nprint(dic)",
      "execution_count": 8,
      "outputs": [
        {
          "output_type": "stream",
          "name": "stdout",
          "text": "Enter a number 9\n{1: 1, 2: 4, 3: 9, 4: 16, 5: 25, 6: 36, 7: 49, 8: 64, 9: 81}\n"
        }
      ]
    },
    {
      "metadata": {},
      "cell_type": "markdown",
      "source": "'''Write a program which accepts a sequence of comma-separated numbers from console and generate a list and a tuple which contains every number.\nSuppose the following input is supplied to the program:\n34,67,55,33,12,98\nThen, the output should be:\n['34', '67', '55', '33', '12', '98']\n('34', '67', '55', '33', '12', '98')'''"
    },
    {
      "metadata": {
        "trusted": true
      },
      "cell_type": "code",
      "source": "\nnums = input(\"Enter \")\na_list = nums.split(\",\")\na_tuple = tuple(a_list)\nprint(a_list)\nprint(a_tuple)\n",
      "execution_count": 9,
      "outputs": [
        {
          "output_type": "stream",
          "name": "stdout",
          "text": "Enter 34,67,33,12,98\n['34', '67', '33', '12', '98']\n('34', '67', '33', '12', '98')\n"
        }
      ]
    },
    {
      "metadata": {},
      "cell_type": "markdown",
      "source": "Question:\nDefine a class which has at least two methods:\ngetString: to get a string from console input\nprintString: to print the string in upper case.\nAlso please include simple test function to test the class methods.\n\nHints:\nUse __init__ method to construct some parameter"
    },
    {
      "metadata": {
        "trusted": true
      },
      "cell_type": "code",
      "source": "class InputString:\n    def __init__(self):\n        self.x = \"\"\n    def getString(self):\n        self.x = input(\"Enter a string: \")\n        \n    def printString(self):\n        print(\"The string in upper case  is \"+self.x.upper() )\n        \n        \nobj = InputString()\n\nobj.getString()\nobj.printString()\n    \n    \n    ",
      "execution_count": 13,
      "outputs": [
        {
          "output_type": "stream",
          "name": "stdout",
          "text": "Enter a string: my name is asad\nThe string in upper case  is MY NAME IS ASAD\n"
        }
      ]
    },
    {
      "metadata": {},
      "cell_type": "markdown",
      "source": "'''Write a program that calculates and prints the value according to the given formula:\nQ = Square root of [(2 * C * D)/H]\nFollowing are the fixed values of C and H:\nC is 50. H is 30.\nD is the variable whose values should be input to your program in a comma-separated sequence.\nExample\nLet us assume the following comma separated input sequence is given to the program:\n100,150,180\nThe output of the program should be:\n18,22,24"
    },
    {
      "metadata": {
        "trusted": true
      },
      "cell_type": "code",
      "source": "ans = []\nnums = input()\ninp = nums.split(\",\")\nfor x in inp:\n    res = ((2*50*int(x))/30)** 0.5\n    ans.append(str(int(res)))\nprint(\",\".join(ans))",
      "execution_count": 19,
      "outputs": [
        {
          "output_type": "stream",
          "name": "stdout",
          "text": "100,150,180\n18,22,24\n"
        }
      ]
    },
    {
      "metadata": {},
      "cell_type": "markdown",
      "source": " Write a program which takes 2 digits, X,Y as input and generates a 2-dimensional array. The element value in the i-th row and j-th column of the array should be i*j.\nNote: i=0,1.., X-1; j=0,1,¡­Y-1.\nExample\nSuppose the following inputs are given to the program:\n3,5\nThen, the output of the program should be:\n[[0, 0, 0, 0, 0], [0, 1, 2, 3, 4], [0, 2, 4, 6, 8]] "
    },
    {
      "metadata": {
        "trusted": true
      },
      "cell_type": "code",
      "source": "inp = input(\"Enter row and column in comma separated form: \")\narr1 = inp.split(\",\")\nrow = int(arr[0])\ncol = int(arr[1])\n\nres = [[0 for i in range(col)]for j in range(row)]\nfor i in range(row):\n    for j in range(col):\n        res[i][j] = i * j\nprint(res)",
      "execution_count": 19,
      "outputs": [
        {
          "output_type": "stream",
          "name": "stdout",
          "text": "Enter row and column in comma separated form: 3,5\n[[0, 0, 0, 0, 0], [0, 1, 2, 3, 4], [0, 2, 4, 6, 8]]\n"
        }
      ]
    },
    {
      "metadata": {},
      "cell_type": "markdown",
      "source": " Write a program that accepts a comma separated sequence of words as input and prints the words in a comma-separated sequence after sorting them alphabetically.\nSuppose the following input is supplied to the program:\nwithout,hello,bag,world\nThen, the output should be:\nbag,hello,without,world\n\nHints:\nIn case of input data being supplied to the question, it should be assumed to be a console input."
    },
    {
      "metadata": {
        "trusted": true
      },
      "cell_type": "code",
      "source": "new_word = []\nwords = input(\"Enter words in comma separated form: \")\nWORDS = words.split(\",\")\nWORDS.sort()\nprint(\",\".join(WORDS))",
      "execution_count": 26,
      "outputs": [
        {
          "output_type": "stream",
          "name": "stdout",
          "text": "Enter words in comma separated form: without,hello,bag,world\nbag,hello,without,world\n"
        }
      ]
    },
    {
      "metadata": {
        "trusted": true
      },
      "cell_type": "code",
      "source": "def full_Name(fName,lname, midname = \"\"):\n    full = f\"{fName} {midname} {lname}\"\n    return full\n\n\n\nprint(full_Name(\"Mirza\", \"Baig\", \"Faizan\"))\nprint(full_Name(\"Asad\", \"Hussain\"))",
      "execution_count": 43,
      "outputs": [
        {
          "output_type": "stream",
          "text": "Mirza Faizan Baig\nAsad  Hussain\n",
          "name": "stdout"
        }
      ]
    },
    {
      "metadata": {},
      "cell_type": "markdown",
      "source": "Question£º\nWrite a program that accepts sequence of lines as input and prints the lines after making all characters in the sentence capitalized.\nSuppose the following input is supplied to the program:\nHello world\nPractice makes perfect\nThen, the output should be:\nHELLO WORLD\nPRACTICE MAKES PERFECT\n\nHints:\nIn case of input data being supplied to the question, it should be assumed to be a console input.\n"
    },
    {
      "metadata": {
        "trusted": true
      },
      "cell_type": "code",
      "source": "lines = []\nwhile True:\n    sen = input(\"Enter a line: \")\n    lines.append(sen.upper())\n    choice = input(\"Do you want to continue? y/n \")\n    if choice.upper() == \"N\":\n        break\nfor sentences in lines:\n    print(sentences)",
      "execution_count": 7,
      "outputs": [
        {
          "output_type": "stream",
          "name": "stdout",
          "text": "Enter a line: hello world\nDo you want to continue? y/n y\nEnter a line: practice makes perfect\nDo you want to continue? y/n n\nHELLO WORLD\nPRACTICE MAKES PERFECT\n"
        }
      ]
    },
    {
      "metadata": {
        "trusted": true
      },
      "cell_type": "markdown",
      "source": "Question:\nWrite a program that accepts a sequence of whitespace separated words as input and prints the words after removing all duplicate words and sorting them alphanumerically.\nSuppose the following input is supplied to the program:\n\"hello world and practice makes perfect and hello world again\"\nThen, the output should be:\nagain and hello makes perfect practice world\n\nHints:\nIn case of input data being supplied to the question, it should be assumed to be a console input.\nWe use set container to remove duplicated data automatically and then use sorted() to sort the data.\n"
    },
    {
      "metadata": {
        "trusted": true
      },
      "cell_type": "code",
      "source": "arr2 = []\nsen = input(\"Enter a sentence: \")\narr1 = sen.split(\" \")    ## split by space into a list\nfor words in arr1:\n    if words not in arr2:   ##for tackling repitition(if one string is already in arr2 \n        arr2.append(words)    ##  append it else append it)\n    else:\n        continue\narr2.sort() ## sorting in alphabetical order\nprint(\" \".join(arr2)) ## printing all elements which are separated by a space \n\n",
      "execution_count": 2,
      "outputs": [
        {
          "output_type": "stream",
          "name": "stdout",
          "text": "Enter a sentence: hello world and practice makes perfect and hello world again\nagain and hello makes perfect practice world\n"
        }
      ]
    },
    {
      "metadata": {
        "trusted": true
      },
      "cell_type": "code",
      "source": "dic = {\"a\": 23, \"b\": 43, \"c\": 26 }\nnew = dict()\nfor x in dic.keys():\n    new[x] = dic.get(x)\nprint(new)\n\n",
      "execution_count": 5,
      "outputs": [
        {
          "output_type": "stream",
          "text": "{'a': 23, 'b': 43, 'c': 26}\n",
          "name": "stdout"
        }
      ]
    },
    {
      "metadata": {
        "trusted": true
      },
      "cell_type": "code",
      "source": "import math\nx = math.asin()\nprint(x)",
      "execution_count": 8,
      "outputs": [
        {
          "output_type": "stream",
          "text": "1.5707963267948966\n",
          "name": "stdout"
        }
      ]
    },
    {
      "metadata": {
        "trusted": true
      },
      "cell_type": "code",
      "source": "a = print(\"abv\")\nprint(a)",
      "execution_count": 7,
      "outputs": [
        {
          "output_type": "stream",
          "text": "abv\nNone\n",
          "name": "stdout"
        }
      ]
    },
    {
      "metadata": {
        "trusted": true
      },
      "cell_type": "code",
      "source": "x = \"Python      \"\nprint(x.rstrip())",
      "execution_count": 13,
      "outputs": [
        {
          "output_type": "stream",
          "text": "Python\n",
          "name": "stdout"
        }
      ]
    },
    {
      "metadata": {
        "trusted": true
      },
      "cell_type": "code",
      "source": "def describe_pet(pet_name, animal_type='dog'):\n        print(\"\\nI have a \" + animal_type + \".\")\n        print(\"My \" + animal_type + \"'s name is \" + pet_name.title() + \".\")\n\n        \ndescribe_pet('willie')\n",
      "execution_count": 25,
      "outputs": [
        {
          "output_type": "stream",
          "text": "\nI have a dog.\nMy dog's name is Willie.\n",
          "name": "stdout"
        }
      ]
    },
    {
      "metadata": {
        "trusted": true
      },
      "cell_type": "code",
      "source": "def show_magicians(names):\n    for name in names:\n        return name \n\n\nmagicians = [\"Asad\", \"Agfasa\", \"dedsa\"]\nprint(show_magicians(magicians))\nprint(2)",
      "execution_count": null,
      "outputs": []
    },
    {
      "metadata": {
        "trusted": true
      },
      "cell_type": "code",
      "source": "\ndef make_album(artist, album, track_no = 0):\n    albm = {\"Artist name\": artist, \"Album\": album }\n    if track_no:\n        albm [\"Track\"] = track_no\n    return albm\n\n\ncheck = True\n\nwhile check:\n    print(\"If you wanna quit at any time press Q\")\n    art = input(\"Enter artist name: \").title()\n    if art.upper() == \"Q\":\n        break\n    alb = input(\"Enter album name: \").title()\n    if alb.upper() == \"Q\":  \n        break\n    print(make_album(art, alb))\n    ",
      "execution_count": null,
      "outputs": []
    },
    {
      "metadata": {
        "trusted": true
      },
      "cell_type": "markdown",
      "source": "#Write a program which accepts a sequence of comma separated 4 digit binary numbers as its input and then check whether they are divisible by 5 or not. The numbers that are divisible by 5 are to be printed in a comma separated sequence.\nExample:\n0100,0011,1010,1001\nThen the output should be:\n\n1010\nNotes: Assume the data is input by console."
    },
    {
      "metadata": {
        "trusted": true
      },
      "cell_type": "code",
      "source": "new = []\nnum = input(\"Enter numbers in comma seaparated sequence: \")\narr = num.split(\",\")\nfor x in arr:\n    if int(x) % 5 == 0:\n        new.append(x)\nprint(\",\".join(new))\n        \n\n",
      "execution_count": 3,
      "outputs": [
        {
          "output_type": "stream",
          "name": "stdout",
          "text": "Enter numbers in comma seaparated sequence: 0100,0011,1010,1001\n0100,1010\n"
        }
      ]
    },
    {
      "metadata": {
        "trusted": true
      },
      "cell_type": "markdown",
      "source": "Write a program, which will find all such numbers between 1000 and 3000 (both included) such that each digit of the number is an even number.\nThe numbers obtained should be printed in a comma-separated sequence on a single line.\n\nHints:\nIn case of input data being supplied to the question, it should be assumed to be a console input."
    },
    {
      "metadata": {
        "trusted": true
      },
      "cell_type": "code",
      "source": "print(\"Enter range\")\nx = int(input(\"Start from: \"))\ny = int(input(\"End on: \"))\nmodified = []\nfor i in range (x, y + 1):\n    check = True\n    stri = str(i)\n    for num in stri:\n        if int(num) % 2 != 0:\n            check = False\n            break\n    if check:\n        modified.append(str(i))\nprint(\",\".join(modified))\n        ",
      "execution_count": 12,
      "outputs": [
        {
          "output_type": "stream",
          "text": "Enter range\nStart from: 1000\nEnd on: 3000\n2000,2002,2004,2006,2008,2020,2022,2024,2026,2028,2040,2042,2044,2046,2048,2060,2062,2064,2066,2068,2080,2082,2084,2086,2088,2200,2202,2204,2206,2208,2220,2222,2224,2226,2228,2240,2242,2244,2246,2248,2260,2262,2264,2266,2268,2280,2282,2284,2286,2288,2400,2402,2404,2406,2408,2420,2422,2424,2426,2428,2440,2442,2444,2446,2448,2460,2462,2464,2466,2468,2480,2482,2484,2486,2488,2600,2602,2604,2606,2608,2620,2622,2624,2626,2628,2640,2642,2644,2646,2648,2660,2662,2664,2666,2668,2680,2682,2684,2686,2688,2800,2802,2804,2806,2808,2820,2822,2824,2826,2828,2840,2842,2844,2846,2848,2860,2862,2864,2866,2868,2880,2882,2884,2886,2888\n",
          "name": "stdout"
        }
      ]
    },
    {
      "metadata": {
        "trusted": true
      },
      "cell_type": "markdown",
      "source": "Write a program that accepts a sentence and calculate the number of letters and digits.\nSuppose the following input is supplied to the program:\nhello world! 123\nThen, the output should be:\nLETTERS 10\nDIGITS 3"
    },
    {
      "metadata": {
        "trusted": true
      },
      "cell_type": "code",
      "source": "dig = 0\nalphabet = 0\nsent = input(\"Enter a sentence: \")\nfor char in sent:\n    if char.isdigit():\n        dig += 1\n    elif char.isalpha():\n        alphabet += 1\nprint(f\"LETTERS {alphabet}\")\nprint(f\"DIGITS {dig}\")\n\n",
      "execution_count": 1,
      "outputs": [
        {
          "output_type": "stream",
          "name": "stdout",
          "text": "Enter a sentence: HELLO WORLD 123!\nLETTERS 10\nDIGITS 3\n"
        }
      ]
    },
    {
      "metadata": {
        "trusted": true
      },
      "cell_type": "markdown",
      "source": "Write a program that accepts a sentence and calculate the number of upper case letters and lower case letters.\nSuppose the following input is supplied to the program:\nHello world!\nThen, the output should be:\nUPPER CASE 1\nLOWER CASE 9\n"
    },
    {
      "metadata": {
        "trusted": true
      },
      "cell_type": "code",
      "source": "up = 0\nlow = 0\nsen = input(\"Enter a sentence: \")\nfor char in sen:\n    if char.isupper():\n        up += 1\n    if char.islower():\n        low += 1\nprint(f\"Upper Case: {up}\")\n\nprint(f\"Lower Case: {low}\")",
      "execution_count": 5,
      "outputs": [
        {
          "output_type": "stream",
          "name": "stdout",
          "text": "Enter a sentence: Hello world!\nUpper Case: 1\nLower Case: 9\n"
        }
      ]
    },
    {
      "metadata": {
        "trusted": true
      },
      "cell_type": "markdown",
      "source": "Write a program that computes the value of a+aa+aaa+aaaa with a given digit as the value of a.\nSuppose the following input is supplied to the program:\n9\nThen, the output should be:\n11106\n\nHints:\nIn case of input data being supplied to the question, it should be assumed to be a console input"
    },
    {
      "metadata": {
        "trusted": true
      },
      "cell_type": "code",
      "source": "tot = 0\nnum = int(input (\"Enter the number: \"))\ntimes = int(input(\"Enter the number of times you want to add: \"))\nfor x in range(1, times + 1):\n    x = str(x)\n    x = int(x) * \"1\"\n    add = int(x) * num\n    tot += add\nprint(tot)    \n    \n    \n        \n        \n        \n        \n        \n    ",
      "execution_count": 2,
      "outputs": [
        {
          "output_type": "stream",
          "name": "stdout",
          "text": "Enter the number: 9\nEnter the number of times you want to add: 4\n11106\n"
        }
      ]
    },
    {
      "metadata": {
        "trusted": true
      },
      "cell_type": "code",
      "source": "def abc(*l, n1, **dic):\n    return n1+sum(l)+sum([v for k,v in dic.items()]), n1, sum(l), sum([v for k,v in dic.items()])\n\n\nx = abc(2,9,3,n1=3,a=6,b=5)\nprint(x)",
      "execution_count": 11,
      "outputs": [
        {
          "output_type": "stream",
          "text": "(28, 3, 14, 11)\n",
          "name": "stdout"
        }
      ]
    },
    {
      "metadata": {
        "trusted": true
      },
      "cell_type": "code",
      "source": "dict = {4: 45,3: 34,1: 432, 2: 4312}\n\nlambda dict: print sorted(dict.iteitems())\n    \n    ",
      "execution_count": null,
      "outputs": []
    },
    {
      "metadata": {},
      "cell_type": "markdown",
      "source": "## SORTING DICTIONARY BY KEYS"
    },
    {
      "metadata": {
        "trusted": true
      },
      "cell_type": "code",
      "source": "dict = {4: 45,3: 34,1: 432, 2: 4312}\n{k: v for k,v in sorted(dict.items(), key = lambda x: x[0])}\n    \n    ",
      "execution_count": 14,
      "outputs": [
        {
          "output_type": "execute_result",
          "execution_count": 14,
          "data": {
            "text/plain": "{1: 432, 2: 4312, 3: 34, 4: 45}"
          },
          "metadata": {}
        }
      ]
    },
    {
      "metadata": {
        "trusted": true
      },
      "cell_type": "markdown",
      "source": "##SORTING DICTIONARY BY KEYS\n"
    },
    {
      "metadata": {
        "trusted": true
      },
      "cell_type": "code",
      "source": "dict = {4: 45,3: 34,1: 432, 2: 4312}\n{k: v for k,v in sorted(dict.items(), key = lambda x: x[1])}\n    \n    ",
      "execution_count": 15,
      "outputs": [
        {
          "output_type": "execute_result",
          "execution_count": 15,
          "data": {
            "text/plain": "{3: 34, 4: 45, 1: 432, 2: 4312}"
          },
          "metadata": {}
        }
      ]
    },
    {
      "metadata": {
        "trusted": true
      },
      "cell_type": "markdown",
      "source": "## SORTING KEY IN REVERSE\n"
    },
    {
      "metadata": {
        "trusted": true
      },
      "cell_type": "code",
      "source": "dict = {4: 45,3: 34,1: 432, 2: 4312}\n{k: v for k,v in sorted(dict.items(), key = lambda x: x[0], reverse = True)}",
      "execution_count": 16,
      "outputs": [
        {
          "output_type": "execute_result",
          "execution_count": 16,
          "data": {
            "text/plain": "{4: 45, 3: 34, 2: 4312, 1: 432}"
          },
          "metadata": {}
        }
      ]
    },
    {
      "metadata": {
        "trusted": true
      },
      "cell_type": "markdown",
      "source": "## Sorting values in reverse"
    },
    {
      "metadata": {
        "trusted": true
      },
      "cell_type": "code",
      "source": "dict = {4: 45,3: 34,1: 432, 2: 4312}\n{k: v for k,v in sorted(dict.items(), key = lambda x: x[1], reverse=True)}",
      "execution_count": 17,
      "outputs": [
        {
          "output_type": "execute_result",
          "execution_count": 17,
          "data": {
            "text/plain": "{2: 4312, 1: 432, 4: 45, 3: 34}"
          },
          "metadata": {}
        }
      ]
    },
    {
      "metadata": {
        "trusted": true
      },
      "cell_type": "code",
      "source": "print(\"I am true\") if False else print(\"I am false\")",
      "execution_count": 3,
      "outputs": [
        {
          "output_type": "stream",
          "text": "I am false\n",
          "name": "stdout"
        }
      ]
    },
    {
      "metadata": {
        "trusted": true
      },
      "cell_type": "markdown",
      "source": ".Use a list comprehension to square each odd number in a list. The list is input by a sequence of comma-separated numbers.\nSuppose the following input is supplied to the program:\n1,2,3,4,5,6,7,8,9\nThen, the output should be:\n1,3,5,7,9"
    },
    {
      "metadata": {
        "trusted": true
      },
      "cell_type": "code",
      "source": "val = input(\"Enter values: \")\nelem = val.split(\",\")\narr = [v for v in elem if int(v) % 2 != 0]\nprint(\",\".join(arr))",
      "execution_count": null,
      "outputs": []
    },
    {
      "metadata": {
        "trusted": true
      },
      "cell_type": "markdown",
      "source": "Write a program that computes the net amount of a bank account based a transaction log from console input. The transaction log format is shown as following:\nD 100\nW 200\n\nD means deposit while W means withdrawal.\nSuppose the following input is supplied to the program:\nD 300\nD 300\nW 200\nD 100\nThen, the output should be:\n500"
    },
    {
      "metadata": {
        "trusted": true
      },
      "cell_type": "code",
      "source": "amount = 0\nwhile True:\n    choice = input(\"Press D for deposit\\nW for withdrawl\\nQ to Exit:  \")\n    if choice.upper() == \"D\":\n        d = int(input(\"D \"))\n        amount += d\n    elif choice.upper() == \"W\":\n        w = int(input(\"W \"))\n        amount -= w\n    else: \n        break\nprint(f\"Balance: {amount}\")",
      "execution_count": 3,
      "outputs": [
        {
          "output_type": "stream",
          "name": "stdout",
          "text": "Press D for deposit\nW for withdrawl\nQ to Exit:  d\nD 300\nPress D for deposit\nW for withdrawl\nQ to Exit:  d\nD 300\nPress D for deposit\nW for withdrawl\nQ to Exit:  w\nW 200\nPress D for deposit\nW for withdrawl\nQ to Exit:  d\nD 100\nPress D for deposit\nW for withdrawl\nQ to Exit:  q\nBalance: 500\n"
        }
      ]
    },
    {
      "metadata": {
        "trusted": true
      },
      "cell_type": "markdown",
      "source": "\nQuestion:\nA website requires the users to input username and password to register. Write a program to check the validity of password input by users.\nFollowing are the criteria for checking the password:\n1. At least 1 letter between [a-z]\n2. At least 1 number between [0-9]\n1. At least 1 letter between [A-Z]\n3. At least 1 character from [$#@]\n4. Minimum length of transaction password: 6\n5. Maximum length of transaction password: 12\nYour program should accept a sequence of comma separated passwords and will check them according to the above criteria. Passwords that match the criteria are to be printed, each separated by a comma.\nExample\nIf the following passwords are given as input to the program:\nABd1234@1,a F1#,2w3E*,2We3345\nThen, the output of the program should be:\nABd1234@1\n\nHints:\nIn case of input data being supplied to the question, it should be assumed to be a console input.\n"
    },
    {
      "metadata": {
        "trusted": true
      },
      "cell_type": "code",
      "source": "import re\naccepted = []\npasswords = input(\"Give various commbination of passwords sparated by comma: \")\ninp = passwords.split(\",\")\nfor items in inp: \n    if len(items) < 6:\n        continue\n    if not re.search('[a-z]', items):\n        continue\n    if not re.search('[0-9]', items):\n        continue\n    if not re.search('[A-Z]', items):\n        continue\n    if not re.search('[$#@]', items):\n        continue\n    else:\n        pass\n    accepted.append(items)\nif len(accepted) == 1:\n    print(\",\".join(accepted) + \" is the accepted password\")\nelse:\n    print(\",\".join(accepted) + \" are the accepted passwords\")",
      "execution_count": 1,
      "outputs": [
        {
          "output_type": "stream",
          "name": "stdout",
          "text": "Give various commbination of passwords sparated by comma: ABd1234@1,a F1#,2w3E*,2We3345,Wxeww322@asasa\nABd1234@1,Wxeww322@asasa are the accepted passwords\n"
        }
      ]
    },
    {
      "metadata": {
        "trusted": true
      },
      "cell_type": "code",
      "source": "from timeit import Timer\nt = Timer(\"for i in range(100):1+1\")\nprint t.timeit()",
      "execution_count": 6,
      "outputs": [
        {
          "output_type": "error",
          "ename": "SyntaxError",
          "evalue": "invalid syntax (<ipython-input-6-128159bf18a1>, line 3)",
          "traceback": [
            "\u001b[0;36m  File \u001b[0;32m\"<ipython-input-6-128159bf18a1>\"\u001b[0;36m, line \u001b[0;32m3\u001b[0m\n\u001b[0;31m    print t.timeit()\u001b[0m\n\u001b[0m          ^\u001b[0m\n\u001b[0;31mSyntaxError\u001b[0m\u001b[0;31m:\u001b[0m invalid syntax\n"
          ]
        }
      ]
    },
    {
      "metadata": {
        "trusted": true
      },
      "cell_type": "code",
      "source": "print(2)",
      "execution_count": 7,
      "outputs": [
        {
          "output_type": "stream",
          "text": "2\n",
          "name": "stdout"
        }
      ]
    },
    {
      "metadata": {
        "trusted": true
      },
      "cell_type": "code",
      "source": "class my():\n    name = \"asad\"\n\n\na = my()\nb = my()\nprint(f\"a.name  = {a.name}\")\nprint(f\"b.name old = {b.name}\")\nb.name = \"Ahmed\"\nprint(f\"b.name new = {b.name}\")\n",
      "execution_count": 12,
      "outputs": [
        {
          "output_type": "error",
          "ename": "SyntaxError",
          "evalue": "can't assign to function call (<ipython-input-12-2d3aa36a599a>, line 2)",
          "traceback": [
            "\u001b[0;36m  File \u001b[0;32m\"<ipython-input-12-2d3aa36a599a>\"\u001b[0;36m, line \u001b[0;32m2\u001b[0m\n\u001b[0;31m    staticmethod(name) = \"asad\"\u001b[0m\n\u001b[0m    ^\u001b[0m\n\u001b[0;31mSyntaxError\u001b[0m\u001b[0;31m:\u001b[0m can't assign to function call\n"
          ]
        }
      ]
    },
    {
      "metadata": {
        "trusted": true
      },
      "cell_type": "raw",
      "source": "Question:\nYou are required to write a program to sort the (name, age, height) tuples by ascending order where name is string, age and height are numbers. The tuples are input by console. The sort criteria is:\n1: Sort based on name;\n2: Then sort based on age;\n3: Then sort by score.\nThe priority is that name > age > score.\nIf the following tuples are given as input to the program:\nTom,19,80\nJohn,20,90\nJony,17,91\nJony,17,93\nJony,17,93\nThen, the output of the program should be:\n[('John', '20', '90'), ('Jony', '17', '91'), ('Jony', '17', '93'), ('Json', '21', '85'), ('Tom', '19', '80')]\n\nHints:\nIn case of input data being supplied to the question, it should be assumed to be a console input.\nWe use itemgetter to enable multiple sort keys.\n"
    },
    {
      "metadata": {
        "trusted": true
      },
      "cell_type": "code",
      "source": "from operator import itemgetter\nrecord = []\nwhile True:\n    s = input(\"Enter name, age, score: \")\n    if s:\n        record.append(tuple(s.split(\",\")))\n    if not s:\n        break\nprint(sorted(record, key=itemgetter(0,1,2)))\n        \n        \n        ",
      "execution_count": 13,
      "outputs": [
        {
          "output_type": "stream",
          "name": "stdout",
          "text": "Enter name, age, score: Tom,19,80\nEnter name, age, score: John,20,90\nEnter name, age, score: Jony,17,91\nEnter name, age, score: Jony,17,93\nEnter name, age, score: \n[('John', '20', '90'), ('Jony', '17', '91'), ('Jony', '17', '93'), ('Tom', '19', '80')]\n"
        }
      ]
    },
    {
      "metadata": {
        "trusted": true
      },
      "cell_type": "code",
      "source": "dic = {\n    1:32,\n    2:43,\n    3:4\n}",
      "execution_count": null,
      "outputs": []
    },
    {
      "metadata": {
        "trusted": true
      },
      "cell_type": "code",
      "source": "",
      "execution_count": null,
      "outputs": []
    }
  ],
  "metadata": {
    "kernelspec": {
      "name": "python36",
      "display_name": "Python 3.6",
      "language": "python"
    },
    "language_info": {
      "mimetype": "text/x-python",
      "nbconvert_exporter": "python",
      "name": "python",
      "pygments_lexer": "ipython3",
      "version": "3.6.6",
      "file_extension": ".py",
      "codemirror_mode": {
        "version": 3,
        "name": "ipython"
      }
    }
  },
  "nbformat": 4,
  "nbformat_minor": 2
}